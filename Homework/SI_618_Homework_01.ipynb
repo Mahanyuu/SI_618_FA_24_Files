{
  "cells": [
    {
      "cell_type": "markdown",
      "metadata": {
        "id": "uIfBetH6W9jl"
      },
      "source": [
        "# **SI 618 - Homework #1: Dive into Data Manipulation**  \n",
        "*Version 2024.09.05.2.CT*\n",
        "\n",
        "---\n",
        "\n",
        "Welcome to your first homework assignment for **SI 618**! In this task, you'll explore the fundamentals of data manipulation, using real-world datasets to practice essential skills. Get ready to dive deep, solve some fun challenges, and level up your data wrangling game!"
      ]
    },
    {
      "cell_type": "markdown",
      "metadata": {
        "id": "lp5qbLWyW9jm"
      },
      "source": [
        "## **Background**  \n",
        "\n",
        "In this assignment, we’ll dive into some exciting **biometric data** and explore how exercise performance relates to key health metrics. 🚶‍♂️💪\n",
        "\n",
        "### Your Task:\n",
        "- You'll apply **data manipulation techniques** we've learned in class and from the readings.\n",
        "- Feel free to consult resources like:\n",
        "    - [**pandas documentation**](https://pandas.pydata.org/pandas-docs/stable/) 📘\n",
        "    - [**Stack Overflow**](https://stackoverflow.com/) 🌐\n",
        "    - [**Copilot**](https://github.com/features/copilot) (for code suggestions)\n",
        "\n",
        "Remember, the goal is to practice **real-world problem-solving** using data manipulation skills, so explore, test, and have fun with the data!"
      ]
    },
    {
      "cell_type": "markdown",
      "metadata": {
        "id": "oLWDooF4W9jn"
      },
      "source": [
        "### Scoring and Guidelines\n",
        "\n",
        "This assignment is worth a **total of 100 points**, with the breakdown of points shown beside each question. Please refer to the accompanying rubric on Canvas for more details.\n",
        "\n",
        "To earn **full points**, ensure the following:\n",
        "\n",
        "- Your code should conform to the [**PEP 8**](https://www.python.org/dev/peps/pep-0008/) style guidelines for Python. 🐍\n",
        "- Written responses should be:\n",
        "  - **Grammatically correct** and free of spelling errors.\n",
        "  - Following the [**Strunk & White**](https://drive.google.com/file/d/1L0P7xJwjUGBvyb49mL3dw1Bt7hzRTiTl/view) guidelines for clear and effective writing.\n",
        "\n",
        "### Code Structure\n",
        "\n",
        "- **Wrap your code in functions** wherever possible! This will make your code reusable for future assignments. 🔁\n",
        "- Don't forget to include:\n",
        "  - **Comments** (explain your thought process),\n",
        "  - **Docstrings** (describe your functions), and\n",
        "  - **Type hints** (specify the data types).\n",
        "  \n",
        "💡 **Reminder**: Undocumented code **will not** receive full credit."
      ]
    },
    {
      "cell_type": "markdown",
      "metadata": {
        "id": "8ywq05AEW9jn"
      },
      "source": [
        "### Important Notes for Submission\n",
        "\n",
        "- **Add as many cells as you need** to complete your work.  \n",
        "- Use:\n",
        "  - **\"Code\" cells** for writing your Python code, and\n",
        "  - **\"Markdown\" cells** for explanations, interpretations, and write-ups.\n",
        "  \n",
        "📝 **Pro tip**: After each question, insert new cells for your solutions and explanations!\n",
        "\n",
        "⚠️ **Note**: Please **do not remove** any of the existing cells in the notebook."
      ]
    },
    {
      "cell_type": "markdown",
      "metadata": {
        "id": "8EV1PilWtl0Z"
      },
      "source": [
        "## 📝 Answer the Following Questions\n",
        "\n",
        "Each question is worth a certain number of points, indicated beside the question.\n",
        "\n",
        "🔢 **Tip**: Make sure to provide detailed answers, and don't hesitate to use extra cells for your code and explanations!"
      ]
    },
    {
      "cell_type": "markdown",
      "metadata": {
        "id": "PfjXDtHoabcS",
        "tags": []
      },
      "source": [
        "### 🟢 Q1: Data Exploration with pandas (10 pts)\n",
        "\n",
        "This question focuses on writing code and exploring a pandas DataFrame. Note: **Biometric data is not required for this question.**\n",
        "\n",
        "#### 🔹 Q1a (2pt):\n",
        "List **5 methods or attributes** that can be used to explore a pandas DataFrame or Series. For each method/attribute, explain:\n",
        "- What it does, and\n",
        "- How it can help explore the data.\n",
        "\n",
        "\n",
        "Make sure to write **complete sentences** for your explanations.\n",
        "\n",
        "#### 🔹 Q1b (4pt):\n",
        "\n",
        "Write a function to generate a **pandas DataFrame** with the following parameters:\n",
        "1. **Number of rows**: The number of rows for the DataFrame.\n",
        "2. **Number of columns**: The number of columns for the DataFrame\n",
        "3. **Optional column names**: A list of column names (if not provided, default to integers starting from 0 up to number_of_columns - 1).\n",
        "4. **Optional row index values**: A list of row index values (if not provided, default to integers starting from 0 up to number_of_rows - 1).\n",
        "5. **Optional random seed**: default = 12345\n",
        "\n",
        "#### Example - DataFrame\n",
        "\n",
        "![image.png](data:image/png;base64,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)\n",
        "\n",
        "The DataFrame should be filled with **random values** between -1 and 1.\n",
        "\n",
        "#### 🔹 Q1c (4pt):\n",
        "Use the function you created to make a DataFrame with:\n",
        "- Columns: `['a', 'b', 'c']`\n",
        "- Index: `['x', 'y', 'z']`\n",
        "\n",
        "Apply the **5 methods/attributes** you listed in Q1a to explore this DataFrame. For each method, write a short explanation of what you learned from it."
      ]
    },
    {
      "cell_type": "markdown",
      "metadata": {},
      "source": [
        "#### 🔹 Q1a \n",
        "- shape It is an attribute for dataframe to describe the number of rows and columns.\n",
        "- describe() The method generates summary statistics (like mean, median, etc).\n",
        "- column It is used to present columnn name for dataframe\n",
        "- index It is used to present index for dataframe\n",
        "- drop() The method drops specific columns or rows from dataframe"
      ]
    },
    {
      "cell_type": "code",
      "execution_count": 2,
      "metadata": {
        "id": "AzPzh-1OZMiR"
      },
      "outputs": [
        {
          "name": "stdout",
          "output_type": "stream",
          "text": [
            "       Column 1  Column 2  Column 3\n",
            "Row 1  0.859232 -0.367249 -0.632162\n",
            "Row 2 -0.590879  0.135450  0.191089\n",
            "Row 3  0.929029  0.306354  0.497813\n",
            "Row 4  0.307140  0.495430  0.922613\n",
            "Row 5 -0.983223 -0.787111 -0.402593\n",
            "Row 6  0.312822  0.619625  0.744352\n",
            "Row 7  0.929295  0.447371  0.284951\n",
            "Row 8  0.434907 -0.064802 -0.348831\n"
          ]
        }
      ],
      "source": [
        "import pandas as pd\n",
        "import numpy as np\n",
        "\n",
        "def generate_df (row_num, col_num, col_name = None, row_index = None, seed = 12345):\n",
        "    '''\n",
        "    Generate a dataframe with you defined the number of columns and rows and the name of columns and rows, which \n",
        "    element is randomly generated between -1 and 1.\n",
        "    '''\n",
        "    np.random.seed(seed)\n",
        "    data = np.random.uniform(-1,1,(row_num, col_num))\n",
        "    if col_name == None:\n",
        "        col_name = [i for i in range(col_num)]\n",
        "    if row_index == None:\n",
        "        row_index ==[i for i in range(row_num)]\n",
        "    \n",
        "    df = pd.DataFrame(data, columns = col_name, index = row_index)\n",
        "    return df\n",
        "print(generate_df(8, 3, ['Column 1', 'Column 2', 'Column 3'], ['Row 1', 'Row 2', 'Row 3','Row 4','Row 5','Row 6','Row 7','Row 8']))"
      ]
    },
    {
      "cell_type": "code",
      "execution_count": 3,
      "metadata": {},
      "outputs": [],
      "source": [
        "df_c = generate_df(3, 3, ['a', 'b', 'c'], ['x', 'y', 'z'])"
      ]
    },
    {
      "cell_type": "code",
      "execution_count": 4,
      "metadata": {},
      "outputs": [
        {
          "name": "stdout",
          "output_type": "stream",
          "text": [
            "(3, 3)\n"
          ]
        }
      ],
      "source": [
        "print(df_c.shape)\n",
        "#return dataframe dimension. The dataframe is 3 rows and 3 columns."
      ]
    },
    {
      "cell_type": "code",
      "execution_count": 5,
      "metadata": {},
      "outputs": [
        {
          "name": "stdout",
          "output_type": "stream",
          "text": [
            "              a         b         c\n",
            "count  3.000000  3.000000  3.000000\n",
            "mean   0.399127  0.024852  0.018913\n",
            "std    0.858081  0.350156  0.584333\n",
            "min   -0.590879 -0.367249 -0.632162\n",
            "25%    0.134176 -0.115899 -0.220536\n",
            "50%    0.859232  0.135450  0.191089\n",
            "75%    0.894131  0.220902  0.344451\n",
            "max    0.929029  0.306354  0.497813\n"
          ]
        }
      ],
      "source": [
        "print(df_c.describe())\n",
        "#return dataframe statistical attributes for each column. The mean of a is 0.39. b is 0.02, c is 0.02."
      ]
    },
    {
      "cell_type": "code",
      "execution_count": 6,
      "metadata": {},
      "outputs": [
        {
          "name": "stdout",
          "output_type": "stream",
          "text": [
            "Index(['a', 'b', 'c'], dtype='object')\n"
          ]
        }
      ],
      "source": [
        "print(df_c.columns)\n",
        "#return the name of columns.The names of columns are a, b, c."
      ]
    },
    {
      "cell_type": "code",
      "execution_count": 7,
      "metadata": {},
      "outputs": [
        {
          "name": "stdout",
          "output_type": "stream",
          "text": [
            "Index(['x', 'y', 'z'], dtype='object')\n"
          ]
        }
      ],
      "source": [
        "print(df_c.index)\n",
        "#return row index. The indexes of rows are x, y, z."
      ]
    },
    {
      "cell_type": "code",
      "execution_count": 8,
      "metadata": {},
      "outputs": [
        {
          "name": "stdout",
          "output_type": "stream",
          "text": [
            "          b         c\n",
            "x -0.367249 -0.632162\n",
            "y  0.135450  0.191089\n",
            "z  0.306354  0.497813\n"
          ]
        }
      ],
      "source": [
        "print(df_c.drop('a', axis = 1))\n",
        "#drop the column a temporarily. Drop the column a."
      ]
    },
    {
      "cell_type": "markdown",
      "metadata": {
        "id": "Pr9WBUQyZY4V",
        "tags": []
      },
      "source": [
        "## 📥 Download the Data\n",
        "\n",
        "Please download the dataset from the following link:  \n",
        "[**Kaggle: Body Performance Data**](https://www.kaggle.com/kukuroo3/body-performance-data)\n",
        "\n",
        "💡 **Tip**: Make sure you're logged into your Kaggle account before downloading."
      ]
    },
    {
      "cell_type": "markdown",
      "metadata": {
        "id": "VOXQh4mIW9jo"
      },
      "source": [
        "### 🟢 Q2: Median Statistics (5 pt)\n",
        "\n",
        "Implement a function to calculate the **median age, height, and weight** of individuals in the dataset, **without** using `pd.DataFrame.describe()`.\n",
        "\n",
        "- **Rounding**: Round the results to the nearest whole number.\n",
        "- **Units**: Be sure to indicate the units for each variable in your write-up.\n",
        "\n",
        "#### 🔹 Summary:\n",
        "Write 1-2 sentences summarizing the output of your function, clearly stating the median values for age, height, and weight, and mentioning the units."
      ]
    },
    {
      "cell_type": "code",
      "execution_count": 9,
      "metadata": {
        "id": "itPqp1DebAkg"
      },
      "outputs": [
        {
          "data": {
            "text/html": [
              "<div>\n",
              "<style scoped>\n",
              "    .dataframe tbody tr th:only-of-type {\n",
              "        vertical-align: middle;\n",
              "    }\n",
              "\n",
              "    .dataframe tbody tr th {\n",
              "        vertical-align: top;\n",
              "    }\n",
              "\n",
              "    .dataframe thead th {\n",
              "        text-align: right;\n",
              "    }\n",
              "</style>\n",
              "<table border=\"1\" class=\"dataframe\">\n",
              "  <thead>\n",
              "    <tr style=\"text-align: right;\">\n",
              "      <th></th>\n",
              "      <th>age_median</th>\n",
              "      <th>height_cm_median</th>\n",
              "      <th>weight_kg_median</th>\n",
              "    </tr>\n",
              "  </thead>\n",
              "  <tbody>\n",
              "    <tr>\n",
              "      <th>0</th>\n",
              "      <td>32.0</td>\n",
              "      <td>169.0</td>\n",
              "      <td>67.0</td>\n",
              "    </tr>\n",
              "  </tbody>\n",
              "</table>\n",
              "</div>"
            ],
            "text/plain": [
              "   age_median  height_cm_median  weight_kg_median\n",
              "0        32.0             169.0              67.0"
            ]
          },
          "execution_count": 9,
          "metadata": {},
          "output_type": "execute_result"
        }
      ],
      "source": [
        "# your code goes here\n",
        "body_perform = pd.read_csv(\"../data/bodyPerformance.csv\")\n",
        "def median_age_height_weight(dataframe):\n",
        "    '''\n",
        "    input a dataframe with header of age, height_cm, weight_kg\n",
        "    return a dataframe with median of age, height_cm, weight_kg\n",
        "    '''\n",
        "    #obtain the original header of height and weight with units in case their units are different\n",
        "    height_header = [i for i in dataframe.columns if 'height' in i][0]\n",
        "    weight_header = [i for i in dataframe.columns if 'weight' in i][0]\n",
        "    age_median = round(dataframe.age.median(),0)\n",
        "    height_median = round(dataframe.height_cm.median(),0)\n",
        "    weight_median = round(dataframe.weight_kg.median(),0)\n",
        "    output = {\n",
        "        'age_median': age_median,\n",
        "        f'{height_header}_median': height_median,\n",
        "        f'{weight_header}_median': weight_median\n",
        "    }\n",
        "    return pd.DataFrame([output])\n",
        "\n",
        "median_age_height_weight(body_perform)"
      ]
    },
    {
      "cell_type": "markdown",
      "metadata": {},
      "source": [
        "In the dataset, the median of age is 32 years old. The median of height in is 169 cm. The median of weight is 67 kg."
      ]
    },
    {
      "cell_type": "markdown",
      "metadata": {
        "id": "LOq_nIfRW9jp"
      },
      "source": [
        "### 🟢 Q3: Detecting Anomalies (5 pt)\n",
        "\n",
        "Investigate the dataset for **anomalous data points**. Consider the following example:\n",
        "- **Diastolic blood pressure** being higher than **systolic blood pressure** is physiologically impossible.\n",
        "\n",
        "But don’t stop there! 🚩 Explore the data for other potential anomalies as well.\n",
        "\n",
        "Think about the following as you attempt the next task\n",
        " - Logical Indexing / Boolean Indexing\n",
        " - Filter using quantile values\n",
        "\n",
        "\n",
        "#### 🔹 Task:\n",
        "- Identify any other types of anomalies that might exist.\n",
        "- Write 1-2 sentences summarizing your findings and insights from the data.\n",
        "\n",
        "💡 **Hint**: Think about physiologically or statistically unusual values in the dataset."
      ]
    },
    {
      "cell_type": "code",
      "execution_count": 100,
      "metadata": {
        "id": "nD3fOdYIbCOF"
      },
      "outputs": [
        {
          "data": {
            "text/plain": [
              "age                        13387\n",
              "gender                     13387\n",
              "height_cm                  13387\n",
              "weight_kg                  13387\n",
              "body fat_%                 13387\n",
              "diastolic                  13387\n",
              "systolic                   13387\n",
              "gripForce                  13387\n",
              "sit and bend forward_cm    13387\n",
              "sit-ups counts             13387\n",
              "broad jump_cm              13387\n",
              "class                      13387\n",
              "dtype: int64"
            ]
          },
          "execution_count": 100,
          "metadata": {},
          "output_type": "execute_result"
        }
      ],
      "source": [
        "body_perform_normal = body_perform[(body_perform['diastolic'] <= body_perform['systolic'])\n",
        "                                  &(body_perform['sit and bend forward_cm']<=body_perform['height_cm']) ]\n",
        "#drop sit and bend > height\n",
        "\n",
        "body_perform_normal.count()"
      ]
    },
    {
      "cell_type": "markdown",
      "metadata": {},
      "source": [
        "I drop the obs whose diastolic > systolic. For percentile, I think it all makes sense so I don't drop. If the age is 65, then it makes sense the old man cannot do sit-up and the count euqals to 0."
      ]
    },
    {
      "cell_type": "markdown",
      "metadata": {
        "id": "F1m7fnqYW9jp"
      },
      "source": [
        "### 🟢 Q4: Visualizing Age, Weight, and Height (10 pt)\n",
        "\n",
        "Your task is to generate **histogram plots** to visualize the differences in **age, weight, and height** between gender M and gender F participants.\n",
        "\n",
        "#### 🔹 Instructions:\n",
        "- Create the histograms using **only** the **matplotlib-pandas** integration (you cannot use Seaborn, Bokeh, or Plotly).\n",
        "- After generating the plots, write a brief description of each, pointing out any interesting observations or patterns you notice.\n",
        "\n",
        "💡 **Hint**: Look for differences in distribution, outliers, or trends between the genders."
      ]
    },
    {
      "cell_type": "code",
      "execution_count": 101,
      "metadata": {
        "id": "V5NzQrFjbED1"
      },
      "outputs": [
        {
          "data": {
            "text/plain": [
              "<matplotlib.legend.Legend at 0x2a59ff1be60>"
            ]
          },
          "execution_count": 101,
          "metadata": {},
          "output_type": "execute_result"
        },
        {
          "data": {
            "image/png": "[encoded data removed]",
            "text/plain": [
              "<Figure size 1800x600 with 3 Axes>"
            ]
          },
          "metadata": {},
          "output_type": "display_data"
        }
      ],
      "source": [
        "import matplotlib.pyplot as plt\n",
        "# Set up the matplotlib figure\n",
        "plt.figure(figsize=(18, 6))\n",
        "\n",
        "plt.subplot(1, 3, 1)\n",
        "\n",
        "for gender in body_perform_normal.gender.unique():\n",
        "    subset = body_perform_normal[body_perform_normal['gender']==gender]\n",
        "    plt.hist(subset['age'], bins = 10, alpha = 0.5, label = gender)\n",
        "plt.title(\"Age Distribution by Gender\")\n",
        "plt.xlabel(\"Age\")\n",
        "plt.ylabel('Frequency')\n",
        "plt.legend(title = 'Gender')\n",
        "\n",
        "plt.subplot(1, 3, 2)\n",
        "for gender in body_perform_normal.gender.unique():\n",
        "    subset = body_perform_normal[body_perform_normal['gender']==gender]\n",
        "    plt.hist(subset['height_cm'], bins = 10, alpha = 0.5, label = gender)\n",
        "plt.title(\"Height Distribution by Gender\")\n",
        "plt.xlabel(\"Height(cm)\")\n",
        "plt.ylabel('Frequency')\n",
        "plt.legend(title = 'Gender')\n",
        "\n",
        "plt.subplot(1, 3, 3)\n",
        "for gender in body_perform_normal.gender.unique():\n",
        "    subset = body_perform_normal[body_perform_normal['gender']==gender]\n",
        "    plt.hist(subset['weight_kg'], bins = 10, alpha = 0.5, label = gender)\n",
        "plt.title(\"Height Distribution by Gender\")\n",
        "plt.xlabel(\"Weight(kg)\")\n",
        "plt.ylabel('Frequency')\n",
        "plt.legend(title = 'Gender')"
      ]
    },
    {
      "cell_type": "markdown",
      "metadata": {},
      "source": [
        "1. Female population in the survey is less than male population so it is common to find frequency of female each part is less than male.\n",
        "2. The median of female is about 160 cm, which is appropriate, while the median of male is about 175 cm. The mode of female and male is roughly same as median.\n",
        "3. For both female and male, each distribution of height and weight is all similar to normal distribution.\n"
      ]
    },
    {
      "cell_type": "markdown",
      "metadata": {
        "id": "0u5VM5ksbCTm"
      },
      "source": [
        "### 🟢 Q5: Understanding Blood Pressure Categories (15 pt)\n",
        "\n",
        "#### Background:\n",
        "Blood pressure is measured using two numbers:\n",
        "- **Systolic** (the upper number)\n",
        "- **Diastolic** (the lower number)\n",
        "\n",
        "For example, a blood pressure of **120/80** means the systolic pressure is **120 mm Hg** and the diastolic pressure is **80 mm Hg**. Blood pressure readings are important for identifying heart health and are classified into several categories. Here’s a quick summary of the categories:\n",
        "\n",
        "| Category              | Systolic (mm Hg) | Diastolic (mm Hg) |\n",
        "|-----------------------|------------------|-------------------|\n",
        "| **Normal**            | Below 120        | Below 80          |\n",
        "| **Elevated**          | 120-129          | Below 80          |\n",
        "| **Stage 1 Hypertension** | 130-139       | 80-89             |\n",
        "| **Stage 2 Hypertension** | 140 or higher | 90 or higher      |\n",
        "| **Hypertensive Crisis** | Higher than 180 | Higher than 120   |\n",
        "\n",
        "#### 🔹 Task:\n",
        "\n",
        "**Part A (8 pt):**  \n",
        "Using the categories above, report the **number of people** who fall into each blood pressure category in the dataset.\n",
        "\n",
        "**Part B (7 pt):**  \n",
        "In 2017, the blood pressure guidelines changed:\n",
        "- **Before 2017**, hypertension was defined as a systolic pressure of **140 mm Hg** or more for people younger than 65, and **150 mm Hg** or more for those aged 65 and older.\n",
        "- **After 2017**, hypertension is defined at a lower level (starting at 130/80 mm Hg).\n",
        "\n",
        "#### Your Job:\n",
        "1. Analyze how the **change in guidelines** affects the classification of individuals.\n",
        "    - For example: how many people were considered hypertensive before 2017, and how many are classified as hypertensive after the change?\n",
        "2. Make reasonable assumptions about how to use systolic and diastolic pressures for your analysis. Clearly state these assumptions in your write-up.\n",
        "\n",
        "💡 **Hint**: Consider analyzing the data for different age groups (<65 and 65+), and decide whether to base your categorization on systolic, diastolic, or both measures.\n",
        "\n",
        "#### 🔹 Summary:\n",
        "- Clearly report the number of people in each category.\n",
        "- Discuss how the new guidelines (post-2017) affect the classification compared to the old guidelines.\n",
        "Blood pressure measurements fall into several categories:\n",
        "\n",
        "**Normal Blood Pressure** - Your blood pressure is normal if it's below 120/80 mm Hg.\n",
        "\n",
        "**Elevated Blood Pressure** - Elevated blood pressure is a systolic pressure ranging from 120 to 129 mm Hg and a diastolic pressure below (not above) 80 mm Hg. Elevated blood pressure may also be called prehypertension.\n",
        "\n",
        "**Stage 1 Hypertension** - Stage 1 hypertension is a systolic pressure ranging from 130 to 139 mm Hg or a diastolic pressure ranging from 80 to 89 mm Hg.\n",
        "\n",
        "**Stage 2 Hypertension** - More-severe hypertension, stage 2 hypertension is a systolic pressure of 140 mm Hg or higher or a diastolic pressure of 90 mm Hg or higher.\n",
        "\n",
        "**Hypertensive Crisis** - A blood pressure measurement higher than 180/120 mm Hg is an emergency situation that requires urgent medical care.\n",
        "\n",
        "a) Report the number of people in each of those categories.\n",
        "\n",
        "b) The guidelines were recently changed: prior to 2017, the guidelines set the threshold at 140/90 mm Hg for people younger than age 65 and 150/80 mm Hg for those ages 65 and older to be diagnosed with hypertension. Create and implement analyses that allow you to demonstrate how the change in guidelines affects the categorization of people into the different categories.\n",
        "Make reasonable assumptions (and state them) about whether to use diastolic, systolic, both, or either of those measures when implementing your analysis.  Note that the new guidelines offer more categories than the older guidelines."
      ]
    },
    {
      "cell_type": "code",
      "execution_count": 102,
      "metadata": {
        "id": "BpvNiXNEbMve"
      },
      "outputs": [
        {
          "name": "stdout",
          "output_type": "stream",
          "text": [
            "blood_pressure_category\n",
            "Elevated                2090\n",
            "Hypertensive Crisis        1\n",
            "Normal                  2896\n",
            "Stage 1 Hypertension    5935\n",
            "Stage 2 Hypertension    2465\n",
            "Name: count, dtype: int64\n"
          ]
        },
        {
          "name": "stderr",
          "output_type": "stream",
          "text": [
            "C:\\Users\\Surii\\AppData\\Local\\Temp\\ipykernel_12172\\1654348004.py:10: SettingWithCopyWarning: \n",
            "A value is trying to be set on a copy of a slice from a DataFrame.\n",
            "Try using .loc[row_indexer,col_indexer] = value instead\n",
            "\n",
            "See the caveats in the documentation: https://pandas.pydata.org/pandas-docs/stable/user_guide/indexing.html#returning-a-view-versus-a-copy\n",
            "  body_perform_normal['blood_pressure_category'] = np.select(conditions, choices, default = 'Unknown')\n"
          ]
        }
      ],
      "source": [
        "# Part A\n",
        "conditions = [(body_perform_normal['diastolic']<80)&(body_perform_normal['systolic']<120),\n",
        "             (body_perform_normal['diastolic']<80)&(120<=body_perform_normal['systolic'])&(body_perform_normal['systolic']<=129),\n",
        "             ((body_perform_normal['diastolic']<=89)&(80<=body_perform_normal['diastolic']))|((body_perform_normal['systolic']>=130)&(body_perform_normal['systolic']<=139)),\n",
        "             ((body_perform_normal['diastolic']>=90)&(body_perform_normal['diastolic']<=119))|((body_perform_normal['systolic']>=140)&(body_perform_normal['systolic']<=179)),\n",
        "             (body_perform_normal['diastolic']>=120)&(body_perform_normal['systolic']>=180)\n",
        "]\n",
        "\n",
        "choices= ['Normal', 'Elevated', 'Stage 1 Hypertension', 'Stage 2 Hypertension', 'Hypertensive Crisis']\n",
        "body_perform_normal['blood_pressure_category'] = np.select(conditions, choices, default = 'Unknown')\n",
        "\n",
        "print(body_perform_normal['blood_pressure_category'].value_counts().sort_index())"
      ]
    },
    {
      "cell_type": "markdown",
      "metadata": {},
      "source": [
        "- Some unknown situations come up since the diastolic and systolic are simultaneuously constrained. For example, when body_perform['diastolic']<80 and body_perform['systolic']>=130, it is not classfied into given category.\n",
        "- For given category, the normal is most common. Most of us are good in this way.\n",
        "- The number of type 1 hypertension is actually more than normal. It is a dangerous signal."
      ]
    },
    {
      "cell_type": "markdown",
      "metadata": {},
      "source": [
        "Assumption:\n",
        "- After changing guidline, more hypertension patients will be identified before 65. So they can be treated early.\n",
        "- Besides age, lowering the standards for hypertension will also make more people aware of their poor health condition, allowing treatment to be prioritized."
      ]
    },
    {
      "cell_type": "code",
      "execution_count": 103,
      "metadata": {},
      "outputs": [
        {
          "name": "stdout",
          "output_type": "stream",
          "text": [
            "after_hypertension\n",
            "N    8454\n",
            "Y    4933\n",
            "dtype: int64\n",
            "before_hypertension\n",
            "N    9625\n",
            "Y    3762\n",
            "dtype: int64\n"
          ]
        },
        {
          "name": "stderr",
          "output_type": "stream",
          "text": [
            "C:\\Users\\Surii\\AppData\\Local\\Temp\\ipykernel_12172\\965404893.py:7: SettingWithCopyWarning: \n",
            "A value is trying to be set on a copy of a slice from a DataFrame.\n",
            "Try using .loc[row_indexer,col_indexer] = value instead\n",
            "\n",
            "See the caveats in the documentation: https://pandas.pydata.org/pandas-docs/stable/user_guide/indexing.html#returning-a-view-versus-a-copy\n",
            "  body_perform_normal[\"before_hypertension\"] = np.select(before_condition, 'Y', default = 'N')\n",
            "C:\\Users\\Surii\\AppData\\Local\\Temp\\ipykernel_12172\\965404893.py:8: SettingWithCopyWarning: \n",
            "A value is trying to be set on a copy of a slice from a DataFrame.\n",
            "Try using .loc[row_indexer,col_indexer] = value instead\n",
            "\n",
            "See the caveats in the documentation: https://pandas.pydata.org/pandas-docs/stable/user_guide/indexing.html#returning-a-view-versus-a-copy\n",
            "  body_perform_normal['after_hypertension'] = np.select(after_condition, 'Y', default = 'N')\n"
          ]
        }
      ],
      "source": [
        "#Part B\n",
        "before_condition = [((body_perform_normal['systolic']>=140) &(body_perform_normal['systolic']>=90) &(body_perform_normal['age']<65))|\n",
        "                    ((body_perform_normal['systolic']>=150) & (body_perform_normal['age']>=65))]\n",
        "\n",
        "after_condition = [(body_perform_normal['systolic']>=130) & (body_perform_normal['diastolic']>=80)]\n",
        "\n",
        "body_perform_normal[\"before_hypertension\"] = np.select(before_condition, 'Y', default = 'N')\n",
        "body_perform_normal['after_hypertension'] = np.select(after_condition, 'Y', default = 'N')\n",
        "\n",
        "hypertension_after = body_perform_normal.groupby(['after_hypertension']).size()\n",
        "hypertension_before = body_perform_normal.groupby(['before_hypertension']).size()\n",
        "\n",
        "print(hypertension_after)\n",
        "print(hypertension_before)"
      ]
    },
    {
      "cell_type": "markdown",
      "metadata": {},
      "source": [
        "Assumption 2 has been proved by code above cuz the number of hypertention patient is more than before."
      ]
    },
    {
      "cell_type": "code",
      "execution_count": 104,
      "metadata": {},
      "outputs": [
        {
          "name": "stdout",
          "output_type": "stream",
          "text": [
            "Empty DataFrame\n",
            "Columns: [age, gender, height_cm, weight_kg, body fat_%, diastolic, systolic, gripForce, sit and bend forward_cm, sit-ups counts, broad jump_cm, class, blood_pressure_category, before_hypertension, after_hypertension]\n",
            "Index: []\n",
            "64.0\n",
            "  Hypertension_Status  Count_After  Count_Before\n",
            "0                   N         1188          1262\n",
            "1                   Y         1079          1005\n",
            "  Hypertension_Status  Count_After  Count_Before\n",
            "0                   N         7266          8363\n",
            "1                   Y         3854          2757\n"
          ]
        }
      ],
      "source": [
        "#65 or more\n",
        "after_65 = body_perform_normal[body_perform_normal['age']>=65]\n",
        "before_65 = body_perform_normal[body_perform_normal['age']>=65].groupby('before_hypertension').size()\n",
        "print(after_65)\n",
        "print(body_perform_normal['age'].max())\n",
        "# hypenrtension_65 = pd.merge(after_65, before_65, on = 'Hypertension_Status', how = 'outer')\n",
        "#55-65\n",
        "after_55 = body_perform_normal[(body_perform_normal['age']<=65) & (body_perform_normal['age']>=55)].groupby('after_hypertension').size().reset_index(name='Count').rename(columns={'after_hypertension': 'Hypertension_Status', 'Count': 'Count_After'})\n",
        "before_55 = body_perform_normal[(body_perform_normal['age']<=65) & (body_perform_normal['age']>=55)].groupby('before_hypertension').size().reset_index(name='Count').rename(columns={'before_hypertension': 'Hypertension_Status', 'Count': 'Count_Before'})\n",
        "hypenrtension_55 = pd.merge(after_55, before_55, on = 'Hypertension_Status', how = 'outer')\n",
        "#less than 55\n",
        "after_younger = body_perform_normal[body_perform_normal['age']<55].groupby('after_hypertension').size().reset_index(name='Count').rename(columns={'after_hypertension': 'Hypertension_Status', 'Count': 'Count_After'})\n",
        "before_younger = body_perform_normal[body_perform_normal['age']<55].groupby('before_hypertension').size().reset_index(name='Count').rename(columns={'before_hypertension': 'Hypertension_Status', 'Count': 'Count_Before'})\n",
        "hypenrtension_younger = pd.merge(after_younger, before_younger, on = 'Hypertension_Status', how = 'outer')\n",
        "print(hypenrtension_55)\n",
        "print(hypenrtension_younger)"
      ]
    },
    {
      "cell_type": "markdown",
      "metadata": {},
      "source": [
        "The max of dataset is 64, so we choose 55 as a high level age to compare. Since the percentage of hypertension old man is slightly increasing by 3% but the younger group's percentage increases by 10%. Assumption 2 is proved."
      ]
    },
    {
      "cell_type": "markdown",
      "metadata": {
        "id": "2wH5ikUcbb16",
        "tags": []
      },
      "source": [
        "### 🟢 Q6: Creating Age Categories and Analyzing Sit-Ups (10 pt)\n",
        "\n",
        "Your task is to create a new variable called **\"age_class\"** that groups people into the following categories:\n",
        "- **\"early\"**: Age < 40\n",
        "- **\"middle\"**: Age between 40 and 60 (inclusive)\n",
        "- **\"late\"**: Age > 60\n",
        "\n",
        "#### 🔹 Steps:\n",
        "1. Create the **\"age_class\"** variable based on the conditions above.\n",
        "2. For each age group (\"early\", \"middle\", \"late\"):\n",
        "    - Report the **mean** number of sit-ups performed.\n",
        "    - Report the **median** number of sit-ups performed.\n",
        "\n",
        "💡 **Hint**: Make sure to check your code for correctness by verifying the results for a few random individuals in the dataset."
      ]
    },
    {
      "cell_type": "code",
      "execution_count": 105,
      "metadata": {
        "id": "9O0YEuAZbOQM"
      },
      "outputs": [
        {
          "name": "stdout",
          "output_type": "stream",
          "text": [
            "          sit-ups counts       \n",
            "                    mean median\n",
            "age_class                      \n",
            "early          45.301255   47.0\n",
            "late           24.060166   25.0\n",
            "middle         31.812075   32.0\n"
          ]
        },
        {
          "name": "stderr",
          "output_type": "stream",
          "text": [
            "C:\\Users\\Surii\\AppData\\Local\\Temp\\ipykernel_12172\\2810347331.py:4: SettingWithCopyWarning: \n",
            "A value is trying to be set on a copy of a slice from a DataFrame.\n",
            "Try using .loc[row_indexer,col_indexer] = value instead\n",
            "\n",
            "See the caveats in the documentation: https://pandas.pydata.org/pandas-docs/stable/user_guide/indexing.html#returning-a-view-versus-a-copy\n",
            "  body_perform_normal['age_class'] = np.select(condition_age, label_age, default='unknown')\n"
          ]
        }
      ],
      "source": [
        "condition_age = [body_perform_normal['age']<40, (body_perform_normal['age']<=60) & (body_perform_normal['age']>=40),\n",
        "                 body_perform_normal['age']>60]\n",
        "label_age =['early', 'middle', 'late']\n",
        "body_perform_normal['age_class'] = np.select(condition_age, label_age, default='unknown')\n",
        "agg_age_class = body_perform_normal.groupby(\"age_class\").agg({\n",
        "    'sit-ups counts': ['mean', 'median']\n",
        "})\n",
        "print(agg_age_class)"
      ]
    },
    {
      "cell_type": "markdown",
      "metadata": {
        "id": "c9LfA_gHW9jq"
      },
      "source": [
        "### 🟢 Q7: Calculating and Visualizing BMI (15 pt)\n",
        "\n",
        "#### 🔹 Part A: Calculating BMI\n",
        "You’ll need to implement a function to calculate each person's **Body Mass Index (BMI)** using the following formula:\n",
        "- **BMI formula (metric system)**:  \n",
        "   ![image.png](data:image/png;base64,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)\n",
        "\n",
        "1. Write a function that accepts **weight (kg)** and **height (cm)** as parameters and returns the **BMI**.\n",
        "2. Use this function to create a new column in your DataFrame called **'BMI'**.\n",
        "\n",
        "💡 **Note**: The CDC provides a detailed explanation of BMI calculation, which you can refer to [here](https://www.cdc.gov/nccdphp/dnpao/growthcharts/training/bmiage/page5_1.html).\n",
        "\n",
        "#### 🔹 Part B: Visualizing BMI\n",
        "Once you’ve added the BMI values to your DataFrame, create two histograms of the BMI using the **pandas-matplotlib integration**:\n",
        "- One histogram for **gender F**.\n",
        "- One histogram for **gender M**.\n",
        "\n",
        "#### 🔹 Part C: Analysis\n",
        "Compare the two histograms and describe:\n",
        "- Any **similarities** in the distributions.\n",
        "- Any **differences** between gender F and gender M.\n",
        "\n",
        "💡 **Hint**: Think about aspects like the **shape of the distribution**, the **spread of BMI values**, and any **outliers** in the data."
      ]
    },
    {
      "cell_type": "code",
      "execution_count": 106,
      "metadata": {
        "id": "Wnpz-kNibQGM"
      },
      "outputs": [
        {
          "name": "stderr",
          "output_type": "stream",
          "text": [
            "C:\\Users\\Surii\\AppData\\Local\\Temp\\ipykernel_12172\\1042069263.py:5: SettingWithCopyWarning: \n",
            "A value is trying to be set on a copy of a slice from a DataFrame.\n",
            "Try using .loc[row_indexer,col_indexer] = value instead\n",
            "\n",
            "See the caveats in the documentation: https://pandas.pydata.org/pandas-docs/stable/user_guide/indexing.html#returning-a-view-versus-a-copy\n",
            "  body_perform_normal['BMI'] = BMI(body_perform_normal,'weight_kg','height_cm')\n"
          ]
        }
      ],
      "source": [
        "# Part A\n",
        "def BMI(dataframe: pd.DataFrame, weight_kg: str, height_cm: str) -> pd.Series:\n",
        "    return dataframe[weight_kg]/(dataframe[height_cm]*dataframe[height_cm])*10000\n",
        "\n",
        "body_perform_normal['BMI'] = BMI(body_perform_normal,'weight_kg','height_cm')"
      ]
    },
    {
      "cell_type": "code",
      "execution_count": 107,
      "metadata": {},
      "outputs": [
        {
          "data": {
            "text/plain": [
              "Text(0, 0.5, 'Frequency')"
            ]
          },
          "execution_count": 107,
          "metadata": {},
          "output_type": "execute_result"
        },
        {
          "data": {
            "image/png": "[encoded data removed]",
            "text/plain": [
              "<Figure size 1200x600 with 2 Axes>"
            ]
          },
          "metadata": {},
          "output_type": "display_data"
        }
      ],
      "source": [
        "# Part B\n",
        "plt.figure(figsize = (12, 6))\n",
        "plt.subplot(1, 2, 1)\n",
        "subset_f = body_perform_normal[body_perform_normal['gender']=='F']\n",
        "plt.hist(subset_f['BMI'], bins=10, label = 'female', color = 'skyblue')\n",
        "plt.title(\"BMI Distribution for Female\")\n",
        "plt.xlabel(\"BMI\")\n",
        "plt.ylabel(\"Frequency\")\n",
        "plt.subplot(1, 2, 2)\n",
        "subset_m = body_perform_normal[body_perform_normal['gender']=='M']\n",
        "plt.hist(subset_m['BMI'], bins=10, label = 'male', color = '#90EE90')\n",
        "plt.title(\"BMI Distribution for Male\")\n",
        "plt.xlabel(\"BMI\")\n",
        "plt.ylabel(\"Frequency\")\n"
      ]
    },
    {
      "cell_type": "markdown",
      "metadata": {},
      "source": [
        "Part C:\n",
        "Similarities:\n",
        "1. They both seems like normal distriburtion.\n",
        "Differences:\n",
        "1. The mode and median of BMI for female is smaller than male's.\n",
        "2. The number of female is fess than male."
      ]
    },
    {
      "cell_type": "markdown",
      "metadata": {
        "id": "7n5ybXFQcR-g"
      },
      "source": [
        "### 🟢 Q8: Comparing Health Metrics by Gender (12 pt)\n",
        "\n",
        "Your task is to compare the **mean values** of the following health metrics between **gender F** and **gender M**:\n",
        "- **Height** (cm)\n",
        "- **Weight** (kg)\n",
        "- **Body fat %**\n",
        "- **Grip force** (kg)\n",
        "- **Sit and bend forward** (cm)\n",
        "- **Sit-ups count** (reps)\n",
        "\n",
        "#### 🔹 Steps:\n",
        "1. **Quantitative Analysis**:  \n",
        "   - Use pandas to calculate the **mean values** for each metric for both gender F and gender M.\n",
        "   - Make sure to include the **units** for each metric in your summary.\n",
        "\n",
        "2. **Visual Analysis**:  \n",
        "   - Create visualizations (e.g., bar plots, histograms) to compare the distribution of these metrics between the two genders. Use **matplotlib** to generate these plots.\n",
        "\n",
        "3. **Functionality**:  \n",
        "   - Where possible, implement **functions** to perform these comparisons (e.g., a function that calculates mean values for each gender).\n",
        "\n",
        "#### 🔹 Summary:\n",
        "Write a brief summary of your findings, discussing:\n",
        "- The differences in the mean values between gender F and gender M.\n",
        "- Any interesting observations or patterns you notice in the visualizations.\n",
        "- Ensure you mention the **units** for each metric in your write-up."
      ]
    },
    {
      "cell_type": "code",
      "execution_count": 108,
      "metadata": {},
      "outputs": [
        {
          "name": "stdout",
          "output_type": "stream",
          "text": [
            "         height_cm  weight_kg  body fat_%  gripForce  sit and bend forward_cm  \\\n",
            "gender                                                                          \n",
            "F       160.486274  56.906733   28.486143   25.81883                18.838093   \n",
            "M       173.259998  73.582314   20.188581   43.44794                13.052200   \n",
            "\n",
            "        sit-ups counts  \n",
            "gender                  \n",
            "F            30.885888  \n",
            "M            44.934885  \n"
          ]
        }
      ],
      "source": [
        "gender_groupby = body_perform_normal.groupby('gender').agg({\n",
        "    \"height_cm\": \"mean\",\n",
        "    \"weight_kg\": \"mean\",\n",
        "    \"body fat_%\": 'mean',\n",
        "    \"gripForce\": 'mean',\n",
        "    \"sit and bend forward_cm\": 'mean',\n",
        "    \"sit-ups counts\": 'mean'\n",
        "})\n",
        "print(gender_groupby)"
      ]
    },
    {
      "cell_type": "code",
      "execution_count": 109,
      "metadata": {},
      "outputs": [
        {
          "data": {
            "image/png": "[encoded data removed]",
            "text/plain": [
              "<Figure size 1200x800 with 1 Axes>"
            ]
          },
          "metadata": {},
          "output_type": "display_data"
        }
      ],
      "source": [
        "gender_groupby = gender_groupby.T\n",
        "ax = gender_groupby.plot(kind = 'bar', figsize = (12, 8), color=('skyblue', '#90EE90'))\n",
        "plt.title(\"Health Matrics by Gender\")\n",
        "plt.xlabel('Health Matrics')\n",
        "plt.ylabel('Mean')\n",
        "plt.xticks(rotation=45)\n",
        "plt.legend(title='Gender')\n",
        "for p in ax.patches:\n",
        "    ax.annotate(format(p.get_height(), '.0f'), \n",
        "                (p.get_x() + p.get_width() / 2., p.get_height()), \n",
        "                ha = 'center', va = 'center', #put the center of horizontal and vertical position\n",
        "                xytext = (0, 7),  # position slightly above the bar\n",
        "                textcoords = 'offset points'#text should be given as an offset in points relative to a given point.\n",
        "                )\n",
        "plt.tight_layout()#adjust the layout to ensure that elements do not overlap"
      ]
    },
    {
      "cell_type": "markdown",
      "metadata": {},
      "source": [
        "- For height, female's mean is 160cm, which is less than male's 173cm.\n",
        "- For weight, female's mean is 57 kg, which is also less than male's 74 kg.\n",
        "- For body fat, female's mean is 28%, which is higher than male's 20%.\n",
        "- For grip force, female's mean is 26, which is significantly less than male's 43.\n",
        "- For sit and bend forward, female's mean is 19 cm, which is more than male's 13 cm.\n",
        "- For sit-ups counts, female's mean is 31, which is significantly less than male's 45.\n",
        "In sum, only in sit and bend forward, female performs better than male because female tends to have better flexibility than male. Except flexibility, female overall health matrics perform worse than male."
      ]
    },
    {
      "cell_type": "markdown",
      "metadata": {
        "id": "wGoiQk8XbqHw"
      },
      "source": [
        "### 🟢 Q9: Calculating Fitness Scores (18 pt)\n",
        "\n",
        "In this task, you will assess the fitness levels of individuals using the following three metrics:\n",
        "- **Grip Force** (a measure of strength)\n",
        "- **Sit and Bend Forward** (a measure of flexibility)\n",
        "- **Sit-ups Count** (a measure of strength and endurance of abdominal and hip-flexor muscles)\n",
        "\n",
        "#### 🔹 Steps:\n",
        "\n",
        "1. **Calculate Z-scores**:\n",
        "   - For each of the three metrics, calculate the z-score using the following formula:\n",
        "\n",
        "$$\n",
        "   z = \\frac{x - \\mu}{\\sigma}\n",
        "$$\n",
        "\n",
        "Where:\n",
        "- $x$ is the individual’s score,\n",
        "- $\\mu$ is the mean of the metric, and\n",
        "- $\\sigma$ is the standard deviation of the metric.\n",
        "\n",
        "2. **Create a Fitness Score**:\n",
        "   - Create an **overall fitness score** by adding the z-scores of the three metrics together for each individual.\n",
        "\n",
        "3. **Categorize Fitness Levels**:\n",
        "   - Use `pd.qcut()` to assign each individual to one of four categories, from the **lowest fitness score** to the **highest fitness score**.\n",
        "\n",
        "4. **Function Implementation**:\n",
        "   - Implement one or more functions to perform these calculations and categorization.\n",
        "\n",
        "#### 🔹 Part A (10 pt):\n",
        "- Report the **number of individuals** in each of the four fitness score categories.\n",
        "\n",
        "#### 🔹 Part B (8 pt):\n",
        "- Compare your fitness categories to the `class` column in the dataset.\n",
        "- Write a brief summary commenting on:\n",
        "  - How closely your fitness categories correspond to the `class` column.\n",
        "  - Any interesting observations or discrepancies between the two.\n",
        "\n",
        "💡 **Hint**: Remember to include units in your analysis and write-up."
      ]
    },
    {
      "cell_type": "code",
      "execution_count": 110,
      "metadata": {
        "id": "7hS6bPHmbii8"
      },
      "outputs": [
        {
          "name": "stdout",
          "output_type": "stream",
          "text": [
            "fitness_scores_class\n",
            "Low          3347\n",
            "Medium       3347\n",
            "Very High    3347\n",
            "High         3346\n",
            "Name: count, dtype: int64\n",
            "class\n",
            "A    3346\n",
            "B    3345\n",
            "C    3348\n",
            "D    3348\n",
            "Name: count, dtype: int64\n"
          ]
        },
        {
          "name": "stderr",
          "output_type": "stream",
          "text": [
            "C:\\Users\\Surii\\AppData\\Local\\Temp\\ipykernel_12172\\1103328131.py:5: SettingWithCopyWarning: \n",
            "A value is trying to be set on a copy of a slice from a DataFrame.\n",
            "Try using .loc[row_indexer,col_indexer] = value instead\n",
            "\n",
            "See the caveats in the documentation: https://pandas.pydata.org/pandas-docs/stable/user_guide/indexing.html#returning-a-view-versus-a-copy\n",
            "  body_perform_normal['z_score_gripforce'] = z_score(body_perform_normal, 'gripForce')\n",
            "C:\\Users\\Surii\\AppData\\Local\\Temp\\ipykernel_12172\\1103328131.py:6: SettingWithCopyWarning: \n",
            "A value is trying to be set on a copy of a slice from a DataFrame.\n",
            "Try using .loc[row_indexer,col_indexer] = value instead\n",
            "\n",
            "See the caveats in the documentation: https://pandas.pydata.org/pandas-docs/stable/user_guide/indexing.html#returning-a-view-versus-a-copy\n",
            "  body_perform_normal['z_score_sit_bend'] = z_score(body_perform_normal, 'sit and bend forward_cm')\n",
            "C:\\Users\\Surii\\AppData\\Local\\Temp\\ipykernel_12172\\1103328131.py:7: SettingWithCopyWarning: \n",
            "A value is trying to be set on a copy of a slice from a DataFrame.\n",
            "Try using .loc[row_indexer,col_indexer] = value instead\n",
            "\n",
            "See the caveats in the documentation: https://pandas.pydata.org/pandas-docs/stable/user_guide/indexing.html#returning-a-view-versus-a-copy\n",
            "  body_perform_normal['z_score_sit-ups'] = z_score(body_perform_normal, 'sit-ups counts')\n",
            "C:\\Users\\Surii\\AppData\\Local\\Temp\\ipykernel_12172\\1103328131.py:8: SettingWithCopyWarning: \n",
            "A value is trying to be set on a copy of a slice from a DataFrame.\n",
            "Try using .loc[row_indexer,col_indexer] = value instead\n",
            "\n",
            "See the caveats in the documentation: https://pandas.pydata.org/pandas-docs/stable/user_guide/indexing.html#returning-a-view-versus-a-copy\n",
            "  body_perform_normal['overall_fitness_scores'] = body_perform_normal['z_score_gripforce']+body_perform_normal['z_score_sit_bend']+body_perform_normal['z_score_sit-ups']\n",
            "C:\\Users\\Surii\\AppData\\Local\\Temp\\ipykernel_12172\\1103328131.py:9: SettingWithCopyWarning: \n",
            "A value is trying to be set on a copy of a slice from a DataFrame.\n",
            "Try using .loc[row_indexer,col_indexer] = value instead\n",
            "\n",
            "See the caveats in the documentation: https://pandas.pydata.org/pandas-docs/stable/user_guide/indexing.html#returning-a-view-versus-a-copy\n",
            "  body_perform_normal['fitness_scores_class'] = pd.qcut(body_perform_normal['overall_fitness_scores'], q=4, labels=['Low', 'Medium', 'High', 'Very High'])\n"
          ]
        }
      ],
      "source": [
        "def z_score(dataframe: pd.DataFrame, VaR: str) -> float:\n",
        "    mean = dataframe[VaR].mean()\n",
        "    std = dataframe[VaR].std()\n",
        "    return [(value-mean)/std for value in dataframe[VaR]]\n",
        "body_perform_normal['z_score_gripforce'] = z_score(body_perform_normal, 'gripForce')\n",
        "body_perform_normal['z_score_sit_bend'] = z_score(body_perform_normal, 'sit and bend forward_cm')\n",
        "body_perform_normal['z_score_sit-ups'] = z_score(body_perform_normal, 'sit-ups counts')\n",
        "body_perform_normal['overall_fitness_scores'] = body_perform_normal['z_score_gripforce']+body_perform_normal['z_score_sit_bend']+body_perform_normal['z_score_sit-ups']\n",
        "body_perform_normal['fitness_scores_class'] = pd.qcut(body_perform_normal['overall_fitness_scores'], q=4, labels=['Low', 'Medium', 'High', 'Very High'])\n",
        "\n",
        "print(body_perform_normal['fitness_scores_class'].value_counts())\n",
        "print(body_perform_normal['class'].value_counts().sort_index())\n",
        "pd.set_option('display.max_columns',None)"
      ]
    },
    {
      "cell_type": "code",
      "execution_count": 111,
      "metadata": {},
      "outputs": [
        {
          "name": "stdout",
          "output_type": "stream",
          "text": [
            "                             age\n",
            "class fitness_scores_class      \n",
            "A     Low                     78\n",
            "      Medium                 631\n",
            "      High                   981\n",
            "      Very High             1656\n",
            "B     Low                    395\n",
            "      Medium                 935\n",
            "      High                  1000\n",
            "      Very High             1015\n",
            "C     Low                    885\n",
            "      Medium                 985\n",
            "      High                   967\n",
            "      Very High              511\n",
            "D     Low                   1989\n",
            "      Medium                 796\n",
            "      High                   398\n",
            "      Very High              165\n",
            "0.14287421622573676\n"
          ]
        },
        {
          "name": "stderr",
          "output_type": "stream",
          "text": [
            "C:\\Users\\Surii\\AppData\\Local\\Temp\\ipykernel_12172\\221196437.py:1: FutureWarning: The default of observed=False is deprecated and will be changed to True in a future version of pandas. Pass observed=False to retain current behavior or observed=True to adopt the future default and silence this warning.\n",
            "  print(body_perform_normal[['class', 'fitness_scores_class', 'age']].groupby(['class', 'fitness_scores_class']).count())\n"
          ]
        }
      ],
      "source": [
        "print(body_perform_normal[['class', 'fitness_scores_class', 'age']].groupby(['class', 'fitness_scores_class']).count())\n",
        "print(pd.Series(pd.factorize(body_perform_normal['class'])[0]).corr(pd.Series(pd.factorize(body_perform_normal['fitness_scores_class'])[0])))"
      ]
    },
    {
      "cell_type": "markdown",
      "metadata": {},
      "source": [
        "#### **Part A**:\n",
        "- The number of each fitness scores class is roughly equal. There is 3347 in each class.  \n",
        "#### **Part B**:\n",
        "- The number of each fitness scores class is roughly equal to the number of each class.\n",
        "- However, correlation between two variables is not high, which is 0.1451.\n",
        "- For A, the number of Very High group is the most one. For B, the number of Low group is the fewest one. So I think maybe the weak correlation exists."
      ]
    },
    {
      "cell_type": "markdown",
      "metadata": {
        "id": "zKkwrNfbJ9zN"
      },
      "source": [
        "### 🟢 IMPORTANT: Final Checks\n",
        "\n",
        "Before you submit your notebook, please ensure that:\n",
        "- Your complete notebook **runs without errors** from top to bottom.  \n",
        "  💡 **Tip**: Use the \"Run All\" feature to quickly check this.\n",
        "  \n",
        "---\n",
        "\n",
        "## 📤 Submission Instructions\n",
        "\n",
        "Submit your completed assignment in both of the following formats:\n",
        "1. **.IPYNB** (Jupyter Notebook format)\n",
        "2. **.HTML** (Webpage format)\n",
        "\n",
        "Upload your files to **Canvas** before the deadline.  Be sure to check that you have uploaded the correct files (e.g., don't accidentally submit an in-class notebook as your homework assignment)."
      ]
    },
    {
      "cell_type": "markdown",
      "metadata": {},
      "source": []
    }
  ],
  "metadata": {
    "colab": {
      "provenance": []
    },
    "kernelspec": {
      "display_name": "Python 3 (ipykernel)",
      "language": "python",
      "name": "python3"
    },
    "language_info": {
      "codemirror_mode": {
        "name": "ipython",
        "version": 3
      },
      "file_extension": ".py",
      "mimetype": "text/x-python",
      "name": "python",
      "nbconvert_exporter": "python",
      "pygments_lexer": "ipython3",
      "version": "3.12.0"
    }
  },
  "nbformat": 4,
  "nbformat_minor": 0
}
