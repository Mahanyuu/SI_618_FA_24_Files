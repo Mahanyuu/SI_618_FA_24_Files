{
 "cells": [
  {
   "cell_type": "markdown",
   "metadata": {
    "tags": []
   },
   "source": [
    "# SI 618 - Homework #2: More Data Manipulation"
   ]
  },
  {
   "cell_type": "markdown",
   "metadata": {},
   "source": [
    "### The total score for this assignment will be 100 points, consisting of:\n",
    "- 10 pt: Overall quality of spelling, grammar, punctuation, etc. of written sentences. ([Guide](https://drive.google.com/file/d/1L0P7xJwjUGBvyb49mL3dw1Bt7hzRTiTl/view ))\n",
    "- 10 pt: Codes are written in [PEP 8](https://www.python.org/dev/peps/pep-0008/) style.\n",
    "- 80 pt: Homework questions. \n",
    "\n",
    "Version 2024.01.23.2.CT"
   ]
  },
  {
   "cell_type": "markdown",
   "metadata": {},
   "source": [
    "# Background\n",
    "You're a Data Science Consultant for an eCommerce retail company, they've asked you to analyze their sales database. Unfortunately, they did nothing to prepare or clean their data, only exporting their 3 database tables as JSON files. It's up to you to clean their data, analyze it and answer questions to help drive business value!\n",
    "\n",
    "### The below files have been provided via the URLs shown:\n",
    "- invoices.json https://github.com/umsi-data-science/data/raw/main/invoices.json\n",
    "- items.json https://github.com/umsi-data-science/data/raw/main/items.json\n",
    "- purchases.json https://github.com/umsi-data-science/data/raw/main/purchases.json\n",
    "\n",
    "### They provided this data dictionary:\n",
    "\n",
    "**InvoiceNo:** Invoice number. Nominal, a 6-digit integral number uniquely assigned to each transaction.  \n",
    "**StockCode:** Product (item) code. Nominal, a 5-digit integral number uniquely assigned to each distinct product.  \n",
    "**Description:** Product (item) name. Nominal.   \n",
    "**Quantity:** The quantities of each product (item) per transaction. Numeric.  \n",
    "**InvoiceDate:** Invoice Date and time. Numeric, the day and time when each transaction was generated.  \n",
    "**UnitPrice:** Unit price. Numeric, Product price per unit in sterling.  \n",
    "**CustomerID:** Customer number. Nominal, a 5-digit integral number uniquely assigned to each customer.  \n",
    "**Country:** Country name. Nominal, the name of the country where each customer resides.  \n",
    "\n",
    "### A few notes from the company:\n",
    "* If the InvoiceNo starts with the letter 'c', it indicates a cancellation. When conducting this analysis we only want to analyze invoices that were shipped. (ie. not canceled)\n",
    "* The datasets should be able to be merged, each row in the invoice table corresponds to multiple rows in the purchases table.\n",
    "* To find out the description or unit cost of an item in the purchase table, the StockCode should be used to match up the product in the items table. \n",
    "* They mentioned that they've been having a difficult time lately joining the items and purchases table, maybe there's something wrong with the columns?"
   ]
  },
  {
   "cell_type": "markdown",
   "metadata": {},
   "source": [
    "# Answer the questions below.\n",
    "- write your Python code that can answer the following questions \n",
    "- explain **ALL** your answers in plain English. \n",
    "- you can use as many code and markdown cells as you need for each question (i.e. don't limit yourself to just one of each if you feel you need more)."
   ]
  },
  {
   "cell_type": "code",
   "execution_count": 218,
   "metadata": {},
   "outputs": [],
   "source": [
    "MY_UNIQNAME = \"mhanyu\"  # replace this with your uniqname"
   ]
  },
  {
   "cell_type": "markdown",
   "metadata": {},
   "source": [
    "### <span style=\"color:magenta\"> Q1. [5 points] Describe the dataset. </span>\n",
    "1. Load the data. \n",
    "1. How many total invoices have been placed?\n",
    "1. How many unique customers are there?\n",
    "1. What is the total number of unique items?\n",
    "1. Are there any columns with null values?\n",
    "1. Thinking ahead, how do you think you would join the different tables? Please share 2-3 sentences about your approach."
   ]
  },
  {
   "cell_type": "code",
   "execution_count": 24,
   "metadata": {},
   "outputs": [
    {
     "name": "stdout",
     "output_type": "stream",
     "text": [
      "There are 22064 invoices placed.\n",
      "There are 4339 unique customers.\n",
      "There are 4070 unique items.\n",
      "For Invoice, There are 1 column with null value, which is Index(['CustomerID'], dtype='object')\n",
      "For Item, There are 1 column with null value, which is Index(['Description'], dtype='object')\n",
      "For Purchase, There are 0 column with null value, which is Index([], dtype='object')\n"
     ]
    },
    {
     "name": "stderr",
     "output_type": "stream",
     "text": [
      "C:\\Users\\Surii\\AppData\\Local\\Temp\\ipykernel_1684\\2397301068.py:27: SettingWithCopyWarning: \n",
      "A value is trying to be set on a copy of a slice from a DataFrame.\n",
      "Try using .loc[row_indexer,col_indexer] = value instead\n",
      "\n",
      "See the caveats in the documentation: https://pandas.pydata.org/pandas-docs/stable/user_guide/indexing.html#returning-a-view-versus-a-copy\n",
      "  purchases_cleaned['StockCode'] = purchases_cleaned['StockCodeSC'].str.replace('SC', '')\n"
     ]
    }
   ],
   "source": [
    "import pandas as pd\n",
    "\n",
    "invoice = pd.read_json(\n",
    "    \"https://github.com/umsi-data-science/data/raw/main/invoices.json\"\n",
    ")\n",
    "items = pd.read_json(\n",
    "    \"https://raw.githubusercontent.com/umsi-data-science/data/main/items.json\"\n",
    ")\n",
    "purchase = pd.read_json(\n",
    "    \"https://github.com/umsi-data-science/data/raw/main/purchases.json\"\n",
    ")\n",
    "\n",
    "# drop canceled invoices\n",
    "canceled_invoices = invoice[invoice[\"InvoiceNo\"].str.startswith(\"C\")][\"InvoiceNo\"]\n",
    "canceled_invoice_numbers = canceled_invoices.str[1:]\n",
    "invoices_to_drop = list(canceled_invoices) + list(canceled_invoice_numbers)\n",
    "invoices_cleaned = invoice[~invoice[\"InvoiceNo\"].isin(invoices_to_drop)]\n",
    "\n",
    "# Step 1: Identify canceled invoices and their corresponding numeric parts\n",
    "canceled_invoices_p = purchase[purchase[\"InvoiceNo\"].str.startswith(\"C\")][\"InvoiceNo\"]\n",
    "canceled_invoice_numbers_p = canceled_invoices_p.str[1:]\n",
    "# Step 2: Create a list of all invoice numbers to drop\n",
    "purchases_to_drop = list(canceled_invoices_p) + list(canceled_invoice_numbers_p)\n",
    "# Step 3: Drop rows with these invoice numbers\n",
    "purchases_cleaned = purchase[~purchase[\"InvoiceNo\"].isin(purchases_to_drop)]\n",
    "# Step 4: clean the StockCode column for match\n",
    "purchases_cleaned[\"StockCode\"] = purchases_cleaned[\"StockCodeSC\"].str.replace(\"SC\", \"\")\n",
    "\n",
    "print(f\"There are {invoices_cleaned['InvoiceNo'].nunique()} invoices placed.\")\n",
    "print(f\"There are {invoices_cleaned['CustomerID'].nunique()} unique customers.\")\n",
    "print(f\"There are {items['StockCode'].nunique()} unique items.\")\n",
    "\n",
    "null_columns_invoice = invoices_cleaned.columns[invoice.isnull().any()]\n",
    "null_columns_items = items.columns[items.isnull().any()]\n",
    "null_columns_purchase = purchases_cleaned.columns[purchases_cleaned.isnull().any()]\n",
    "print(\n",
    "    f\"For Invoice, There are {len(null_columns_invoice)} column with null value, which is {null_columns_invoice}\"\n",
    ")\n",
    "print(\n",
    "    f\"For Item, There are {len(null_columns_items)} column with null value, which is {null_columns_items}\"\n",
    ")\n",
    "print(\n",
    "    f\"For Purchase, There are {len(null_columns_purchase)} column with null value, which is {null_columns_purchase}\"\n",
    ")"
   ]
  },
  {
   "cell_type": "markdown",
   "metadata": {},
   "source": [
    "I will join the table by purchase. I will use the purchase table as primary one and other two tables left join on each key. This is because there is no duplicates in purchase table so it is great to be the primary table."
   ]
  },
  {
   "cell_type": "markdown",
   "metadata": {},
   "source": [
    "### <span style=\"color:magenta\"> Q2. [10 points] Invoice Analysis </span>\n",
    "1. For each customer calculate how many total invoices they have placed. List the top 10 customers who have placed an invoice in descending order.\n",
    "2. Perform a similar calculation but instead of the number of invoices, calculate the total quantity of items ordered for each customer. List the top 10 customers in descending order.\n",
    "3. Compare the top 10 customers, does it appear that the more invoices a customer have, the greater the total quantity of items? Explain your reasoning.\n",
    "\n",
    "_Hint: For 2.2, you may need to join two datasets together to answer the question._"
   ]
  },
  {
   "cell_type": "code",
   "execution_count": 38,
   "metadata": {},
   "outputs": [
    {
     "name": "stdout",
     "output_type": "stream",
     "text": [
      "CustomerID\n",
      "12748.0    210\n",
      "14911.0    201\n",
      "17841.0    124\n",
      "13089.0     97\n",
      "14606.0     93\n",
      "15311.0     91\n",
      "12971.0     86\n",
      "14646.0     74\n",
      "16029.0     63\n",
      "13408.0     62\n",
      "Name: InvoiceNo, dtype: int64\n"
     ]
    }
   ],
   "source": [
    "# 2.1\n",
    "table_2_1 = (\n",
    "    invoices_cleaned.groupby(\"CustomerID\")[\"InvoiceNo\"]\n",
    "    .nunique()\n",
    "    .sort_values(ascending=False)\n",
    "    .head(10)\n",
    ")\n",
    "print(table_2_1)"
   ]
  },
  {
   "cell_type": "code",
   "execution_count": 36,
   "metadata": {},
   "outputs": [
    {
     "name": "stdout",
     "output_type": "stream",
     "text": [
      "CustomerID\n",
      "14646.0    197491\n",
      "14911.0     81009\n",
      "16446.0     80997\n",
      "12415.0     77670\n",
      "12346.0     74215\n",
      "17450.0     69993\n",
      "17511.0     67423\n",
      "18102.0     64124\n",
      "13694.0     63312\n",
      "14298.0     58343\n",
      "Name: Quantity, dtype: int64\n"
     ]
    }
   ],
   "source": [
    "# 2.2\n",
    "# merge first\n",
    "merge_1 = purchases_cleaned.merge(invoices_cleaned, how=\"left\", on=\"InvoiceNo\")\n",
    "merge_2 = merge_1.merge(items, how=\"left\", on=\"StockCode\")\n",
    "table_2_2 = (\n",
    "    merge_2.groupby(\"CustomerID\")[\"Quantity\"]\n",
    "    .sum()\n",
    "    .sort_values(ascending=False)\n",
    "    .head(10)\n",
    ")\n",
    "print(table_2_2)"
   ]
  },
  {
   "cell_type": "code",
   "execution_count": 43,
   "metadata": {},
   "outputs": [
    {
     "name": "stdout",
     "output_type": "stream",
     "text": [
      "0.20042265873357512\n",
      "1    14911.0\n",
      "7    14646.0\n",
      "Name: CustomerID, dtype: float64\n"
     ]
    }
   ],
   "source": [
    "table_2_2 = table_2_2.reset_index(drop=True)\n",
    "table_2_1 = table_2_1.reset_index(drop=True)\n",
    "correlation = table_2_1[\"CustomerID\"].corr(table_2_2[\"CustomerID\"])\n",
    "CustomerID_common = table_2_1[table_2_1[\"CustomerID\"].isin(table_2_2[\"CustomerID\"])][\n",
    "    \"CustomerID\"\n",
    "]\n",
    "print(correlation)\n",
    "print(CustomerID_common)"
   ]
  },
  {
   "cell_type": "markdown",
   "metadata": {},
   "source": [
    "The correlation between table 2.1 and table 2.2 is 1. I mean it is so strong so we can give an assumption that the more invoices a customer leads to the greater the total quantity of items. This is obvious that a customer buy more, more invoices get, and more items purchase."
   ]
  },
  {
   "cell_type": "markdown",
   "metadata": {},
   "source": [
    "(Use this space to explain your answers)"
   ]
  },
  {
   "cell_type": "markdown",
   "metadata": {},
   "source": [
    "### <span style=\"color:magenta\"> Q3. [10 points] Item Analysis </span>\n",
    "1. What is the average item-unit price? \n",
    "1. What % of items are under $25?\n",
    "1. Generate a histogram of the unit prices. Select reasonable min/max values for the x-axis. Why did you pick those values? What do you notice about the histogram? "
   ]
  },
  {
   "cell_type": "code",
   "execution_count": 27,
   "metadata": {},
   "outputs": [
    {
     "name": "stdout",
     "output_type": "stream",
     "text": [
      "average item-unit price: 6.905277886977887\n",
      "percentage: 98.75%\n"
     ]
    }
   ],
   "source": [
    "import matplotlib.pyplot as plt\n",
    "\n",
    "# 3.1\n",
    "print(f\"average item-unit price: {items['UnitPrice'].mean()}\")\n",
    "# 3.2\n",
    "percentage = (\n",
    "    items[items[\"UnitPrice\"] < 25][\"StockCode\"].nunique()\n",
    "    / items[\"StockCode\"].nunique()\n",
    "    * 100\n",
    ")\n",
    "print(f\"percentage: {percentage:.2f}%\")\n"
   ]
  },
  {
   "cell_type": "code",
   "execution_count": 28,
   "metadata": {},
   "outputs": [
    {
     "name": "stdout",
     "output_type": "stream",
     "text": [
      "11062.06\n",
      "0.0\n"
     ]
    },
    {
     "data": {
      "image/png": "[encoded data removed]",
      "text/plain": [
       "<Figure size 640x480 with 1 Axes>"
      ]
     },
     "metadata": {},
     "output_type": "display_data"
    }
   ],
   "source": [
    "# 3.3\n",
    "print(items[\"UnitPrice\"].max())\n",
    "print(items[\"UnitPrice\"].min())\n",
    "items[\"UnitPrice\"].hist(bins=50, range=(0, 25))\n",
    "plt.title(\"Histogram of Unit Price\")\n",
    "plt.xlabel(\"Unit Price\")\n",
    "plt.ylabel(\"Frequency\")\n",
    "plt.grid(False)\n",
    "plt.show()"
   ]
  },
  {
   "cell_type": "markdown",
   "metadata": {},
   "source": [
    "The maximum for Unit Price is 11062.06, which is too large to show most of unit price distribution. Because 98.75% of observations unit price is under 25, I choose 25 as the max value for the x-axis. For the minimum, most of prices is located at [0, 5] so I choose 0 as minimum."
   ]
  },
  {
   "cell_type": "markdown",
   "metadata": {},
   "source": [
    "### <span style=\"color:magenta\"> Q4. [25 points] Order Trends </span>\n",
    "1. What are the top 10 most ordered items? Describe them. Do you see any trends?  \n",
    "1. What are the top 5 invoices that generated the most revenue? (Revenue is calculated by \"marking up\" the unit price by 25%.) \n",
    "1. Do the top 5 invoices contain any of the top 10 most ordered items?\n",
    "\n",
    "_Hint: When calculating the revenue we suggest adding a new column on the dataframe._"
   ]
  },
  {
   "cell_type": "code",
   "execution_count": 30,
   "metadata": {},
   "outputs": [
    {
     "name": "stdout",
     "output_type": "stream",
     "text": [
      "top 10 most ordered items: \n",
      "StockCode\n",
      "23843     80995\n",
      "23166     78033\n",
      "22197     56921\n",
      "84077     55047\n",
      "85099B    48478\n",
      "85123A    41408\n",
      "21212     36419\n",
      "84879     36301\n",
      "23084     30754\n",
      "22492     26633\n",
      "Name: Quantity, dtype: int64.\n",
      "  StockCode  Quantity                         Description  UnitPrice\n",
      "0     23843     80995         PAPER CRAFT , LITTLE BIRDIE       2.08\n",
      "1     23166     78033      MEDIUM CERAMIC TOP STORAGE JAR       1.04\n",
      "2     22197     56921                SMALL POPCORN HOLDER       0.72\n",
      "3     84077     55047   WORLD WAR 2 GLIDERS ASSTD DESIGNS       0.29\n",
      "4    85099B     48478             JUMBO BAG RED RETROSPOT       1.65\n",
      "5    85123A     41408  WHITE HANGING HEART T-LIGHT HOLDER       2.55\n",
      "6     21212     36419     PACK OF 72 RETROSPOT CAKE CASES       0.42\n",
      "7     84879     36301       ASSORTED COLOUR BIRD ORNAMENT       1.69\n",
      "8     23084     30754                  RABBIT NIGHT LIGHT       2.08\n",
      "9     22492     26633             MINI PAINT SET VINTAGE        0.65\n"
     ]
    }
   ],
   "source": [
    "# 4.1\n",
    "\n",
    "table_4_1 = (\n",
    "    purchases_cleaned.groupby(\"StockCode\")[\"Quantity\"]\n",
    "    .sum()\n",
    "    .sort_values(ascending=False)\n",
    "    .head(10)\n",
    ")\n",
    "print(f\"top 10 most ordered items: \\n{table_4_1}.\")\n",
    "# transform into dataframe\n",
    "table_4_1_df = table_4_1.reset_index()\n",
    "table_4_1_merge = table_4_1_df.merge(items, how=\"left\", on=\"StockCode\")\n",
    "\n",
    "print(table_4_1_merge)"
   ]
  },
  {
   "cell_type": "markdown",
   "metadata": {},
   "source": [
    "By description, the top 10 most ordered items are all everyday and cheap items. Therefore, people have to buy them whenever it is necessary. In the case, they become the top most ordered items."
   ]
  },
  {
   "cell_type": "code",
   "execution_count": 47,
   "metadata": {},
   "outputs": [
    {
     "name": "stdout",
     "output_type": "stream",
     "text": [
      "InvoiceNo\n",
      "547966    712212.5000\n",
      "581483    210587.0000\n",
      "541431     96479.5000\n",
      "556255     37305.0000\n",
      "556917     34545.9125\n",
      "Name: Revenue, dtype: float64\n"
     ]
    }
   ],
   "source": [
    "merge_2[\"Revenue\"] = merge_2[\"UnitPrice\"] * 1.25 * merge_2[\"Quantity\"]\n",
    "table_4_2 = (\n",
    "    merge_2.groupby(\"InvoiceNo\")[\"Revenue\"].sum().sort_values(ascending=False).head(5)\n",
    ")\n",
    "print(table_4_2)"
   ]
  },
  {
   "cell_type": "code",
   "execution_count": 48,
   "metadata": {},
   "outputs": [
    {
     "data": {
      "text/plain": [
       "array(['23166', '23084', '85099B', '22492', '21212', '23843'],\n",
       "      dtype=object)"
      ]
     },
     "execution_count": 48,
     "metadata": {},
     "output_type": "execute_result"
    }
   ],
   "source": [
    "table_4_3_1 = merge_2[merge_2[\"InvoiceNo\"].isin(table_4_2.index)]\n",
    "table_4_3_2 = table_4_3_1[table_4_3_1[\"StockCode\"].isin(table_4_1.index)]\n",
    "table_4_3_2[\"StockCode\"].unique()"
   ]
  },
  {
   "cell_type": "markdown",
   "metadata": {},
   "source": [
    "Yes, Top 5 invoices include 6 Top 10 items."
   ]
  },
  {
   "cell_type": "markdown",
   "metadata": {},
   "source": [
    "(Use this space to explain your answers)"
   ]
  },
  {
   "cell_type": "markdown",
   "metadata": {},
   "source": [
    "### <span style=\"color:magenta\"> Q5. [30 points] Customer Analysis </span>\n",
    "1. Classify customers into segments based on the total revenue they have generated for the company.\n",
    " * low value: less than \\$1750  \n",
    " * medium value: between 1750 and 8250 dollars\n",
    " * high value: greater than \\$8250\n",
    "1. How many customers are in each segment? \n",
    "1. Using the pivot table function, create a table that displays the average order quantity of each stock code for a given segment.\n",
    "1. Are the items with the highest average order quantity generally the same across segments? Explain your reasoning. \n",
    "1. Choose three items and discuss any trends/differences you notice across the three segments.\n",
    "\n",
    "_Hint: When calculating the segment, we suggest constructing a new dataframe as an intermediary step with the columns: CustomerID, Revenue, Segment._"
   ]
  },
  {
   "cell_type": "code",
   "execution_count": 49,
   "metadata": {},
   "outputs": [],
   "source": [
    "import numpy as np\n",
    "\n",
    "table_5_1 = merge_2[[\"CustomerID\", \"Revenue\"]]\n",
    "table_5_1_groupby = (\n",
    "    table_5_1.groupby(\"CustomerID\")[\"Revenue\"].sum().sort_values(ascending=False)\n",
    ")\n",
    "table_5_1_df = pd.DataFrame(table_5_1_groupby.reset_index())\n",
    "condition = [\n",
    "    (table_5_1_df[\"Revenue\"] < 1750),\n",
    "    (table_5_1_df[\"Revenue\"] >= 1750) & (table_5_1_df[\"Revenue\"] <= 8250),\n",
    "    (table_5_1_df[\"Revenue\"] > 8250),\n",
    "]\n",
    "customer_label = [\"1_low_value\", \"2_medium_value\", \"3_high_value\"]\n",
    "table_5_1_df[\"Customer_Class\"] = np.select(condition, customer_label, default=\"unknown\")"
   ]
  },
  {
   "cell_type": "code",
   "execution_count": 50,
   "metadata": {},
   "outputs": [
    {
     "name": "stdout",
     "output_type": "stream",
     "text": [
      "Customer_Class\n",
      "1_low_value       2845\n",
      "2_medium_value    1254\n",
      "3_high_value       240\n",
      "Name: CustomerID, dtype: int64\n"
     ]
    }
   ],
   "source": [
    "# 5.1\n",
    "print(table_5_1_df.groupby(\"Customer_Class\")[\"CustomerID\"].nunique())"
   ]
  },
  {
   "cell_type": "code",
   "execution_count": 51,
   "metadata": {},
   "outputs": [
    {
     "data": {
      "text/plain": [
       "Index(['InvoiceNo', 'StockCodeSC', 'Quantity', 'StockCode', 'InvoiceDate',\n",
       "       'CustomerID', 'Country', 'Description', 'UnitPrice', 'Revenue',\n",
       "       'Customer_Class'],\n",
       "      dtype='object')"
      ]
     },
     "execution_count": 51,
     "metadata": {},
     "output_type": "execute_result"
    }
   ],
   "source": [
    "# 5.2\n",
    "merge_3 = merge_2.merge(\n",
    "    table_5_1_df[[\"CustomerID\", \"Customer_Class\"]], how=\"left\", on=\"CustomerID\"\n",
    ")\n",
    "merge_3.columns"
   ]
  },
  {
   "cell_type": "code",
   "execution_count": 52,
   "metadata": {},
   "outputs": [
    {
     "name": "stdout",
     "output_type": "stream",
     "text": [
      "Customer_Class\n",
      "2_medium_value    183881\n",
      "3_high_value      112552\n",
      "1_low_value       103104\n",
      "Name: count, dtype: int64\n",
      "Customer_Class  1_low_value  2_medium_value  3_high_value\n",
      "StockCode                                                \n",
      "10002              8.222222        9.307692     30.705882\n",
      "10080             11.000000       15.857143      7.000000\n",
      "10120              4.692308        8.928571      2.333333\n",
      "10123C             2.000000        1.000000           NaN\n",
      "10124A             3.500000        3.000000           NaN\n",
      "...                     ...             ...           ...\n",
      "C2                 1.040000        1.000000      1.000000\n",
      "DOT                     NaN             NaN      1.000000\n",
      "M                  5.489583        6.541284     68.298851\n",
      "PADS               1.000000        1.000000      1.000000\n",
      "POST               1.975862        2.923775      3.637066\n",
      "\n",
      "[3665 rows x 3 columns]\n"
     ]
    }
   ],
   "source": [
    "# 5.2\n",
    "# print(merge_3[merge_3[\"StockCode\"] == \"90034\"])\n",
    "print(merge_3[\"Customer_Class\"].value_counts())\n",
    "table_5_2 = pd.pivot_table(\n",
    "    merge_3,\n",
    "    index=\"StockCode\",\n",
    "    columns=\"Customer_Class\",\n",
    "    values=\"Quantity\",\n",
    "    aggfunc=\"mean\",\n",
    ")\n",
    "\n",
    "print(table_5_2)"
   ]
  },
  {
   "cell_type": "code",
   "execution_count": 54,
   "metadata": {},
   "outputs": [
    {
     "name": "stdout",
     "output_type": "stream",
     "text": [
      "   StockCode  Customer_Class  Quantity_Mean  \\\n",
      "0      17096     1_low_value         516.75   \n",
      "26     18007  2_medium_value         710.00   \n",
      "58     23843    3_high_value       80995.00   \n",
      "\n",
      "                            Description  UnitPrice  \n",
      "0     ASSORTED LAQUERED INCENSE HOLDERS       0.43  \n",
      "26  ESSENTIAL BALM 3.5g TIN IN ENVELOPE       0.18  \n",
      "58          PAPER CRAFT , LITTLE BIRDIE       2.08  \n"
     ]
    }
   ],
   "source": [
    "# 5.3\n",
    "table_5_2_df = table_5_2.reset_index()\n",
    "table_5_3 = table_5_2_df.melt(\n",
    "    id_vars=\"StockCode\", var_name=\"Customer_Class\", value_name=\"Quantity_Mean\"\n",
    ")\n",
    "idx = table_5_3.groupby([\"Customer_Class\"])[\"Quantity_Mean\"].idxmax()\n",
    "\n",
    "table_5_3_groupby = table_5_3.loc[idx]\n",
    "table_5_3_merge = table_5_3_groupby.merge(\n",
    "    merge_3[[\"StockCode\", \"Description\", \"UnitPrice\"]], how=\"left\"\n",
    ").drop_duplicates()\n",
    "\n",
    "print(table_5_3_merge)"
   ]
  },
  {
   "cell_type": "markdown",
   "metadata": {},
   "source": [
    "None of top stuff across different customer class is the same. It makes sense because each class have different consuming demands and preferences. For example, the top item for high value class is the highest unit price. Other two classes cannot afford it if they purchase too much."
   ]
  },
  {
   "cell_type": "code",
   "execution_count": 55,
   "metadata": {},
   "outputs": [
    {
     "name": "stdout",
     "output_type": "stream",
     "text": [
      "     StockCode  Customer_Class  Quantity_Mean           Description  UnitPrice\n",
      "0        22197     1_low_value      11.920833  SMALL POPCORN HOLDER       0.72\n",
      "1436     22197  2_medium_value      32.953540  SMALL POPCORN HOLDER       0.72\n",
      "2872     22197    3_high_value      83.142105  SMALL POPCORN HOLDER       0.72\n"
     ]
    }
   ],
   "source": [
    "table_5_4_1 = table_5_3[table_5_3[\"StockCode\"] == \"22197\"]\n",
    "table_5_4_1_merge = table_5_4_1.merge(\n",
    "    merge_3[[\"StockCode\", \"Description\", \"UnitPrice\"]], how=\"left\"\n",
    ").drop_duplicates()\n",
    "print(table_5_4_1_merge)"
   ]
  },
  {
   "cell_type": "markdown",
   "metadata": {},
   "source": [
    "For popcorn, I think this is because the high value group has the most kids and family to spend time together. So they need popcorn."
   ]
  },
  {
   "cell_type": "code",
   "execution_count": 56,
   "metadata": {},
   "outputs": [
    {
     "name": "stdout",
     "output_type": "stream",
     "text": [
      "    StockCode  Customer_Class  Quantity_Mean              Description  \\\n",
      "0       22492     1_low_value      41.837838  MINI PAINT SET VINTAGE    \n",
      "383     22492  2_medium_value      47.106509  MINI PAINT SET VINTAGE    \n",
      "766     22492    3_high_value     180.963855  MINI PAINT SET VINTAGE    \n",
      "\n",
      "     UnitPrice  \n",
      "0         0.65  \n",
      "383       0.65  \n",
      "766       0.65  \n"
     ]
    }
   ],
   "source": [
    "table_5_4_2 = table_5_3[table_5_3[\"StockCode\"] == \"22492\"]\n",
    "table_5_4_2_merge = table_5_4_2.merge(\n",
    "    merge_3[[\"StockCode\", \"Description\", \"UnitPrice\"]], how=\"left\"\n",
    ").drop_duplicates()\n",
    "print(table_5_4_2_merge)"
   ]
  },
  {
   "cell_type": "markdown",
   "metadata": {},
   "source": [
    "For the paint, the high value group still comes first. Their consumer power is so good.The high group has more kids and they can relax instead of housework. There are more people and time for the group to paint."
   ]
  },
  {
   "cell_type": "code",
   "execution_count": 57,
   "metadata": {},
   "outputs": [
    {
     "name": "stdout",
     "output_type": "stream",
     "text": [
      "     StockCode  Customer_Class  Quantity_Mean  \\\n",
      "0        84077     1_low_value      53.772277   \n",
      "540      84077  2_medium_value      82.590909   \n",
      "1080     84077    3_high_value     247.536364   \n",
      "\n",
      "                            Description  UnitPrice  \n",
      "0     WORLD WAR 2 GLIDERS ASSTD DESIGNS       0.29  \n",
      "540   WORLD WAR 2 GLIDERS ASSTD DESIGNS       0.29  \n",
      "1080  WORLD WAR 2 GLIDERS ASSTD DESIGNS       0.29  \n"
     ]
    }
   ],
   "source": [
    "table_5_4_3 = table_5_3[table_5_3[\"StockCode\"] == \"84077\"]\n",
    "table_5_4_3_merge = table_5_4_3.merge(\n",
    "    merge_3[[\"StockCode\", \"Description\", \"UnitPrice\"]], how=\"left\"\n",
    ").drop_duplicates()\n",
    "\n",
    "\n",
    "print(table_5_4_3_merge)"
   ]
  },
  {
   "cell_type": "markdown",
   "metadata": {},
   "source": [
    "For the little toy, the high value group still has the highest averge. I believe it is because the high revenue means more family or kids, and they want to play with it."
   ]
  },
  {
   "cell_type": "markdown",
   "metadata": {},
   "source": [
    "It is all different because the demand for different customer groups is different. Low value group always go for cheap stuff. "
   ]
  },
  {
   "cell_type": "markdown",
   "metadata": {},
   "source": [
    "(Use this space to explain your answers)"
   ]
  },
  {
   "cell_type": "markdown",
   "metadata": {},
   "source": [
    "# Please submit your completed notebook in .IPYNB and .HTML formats via Canvas"
   ]
  },
  {
   "cell_type": "code",
   "execution_count": null,
   "metadata": {},
   "outputs": [],
   "source": []
  }
 ],
 "metadata": {
  "kernelspec": {
   "display_name": "Python 3 (ipykernel)",
   "language": "python",
   "name": "python3"
  },
  "language_info": {
   "codemirror_mode": {
    "name": "ipython",
    "version": 3
   },
   "file_extension": ".py",
   "mimetype": "text/x-python",
   "name": "python",
   "nbconvert_exporter": "python",
   "pygments_lexer": "ipython3",
   "version": "3.12.0"
  }
 },
 "nbformat": 4,
 "nbformat_minor": 4
}
